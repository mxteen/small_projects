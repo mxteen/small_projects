{
 "cells": [
  {
   "cell_type": "markdown",
   "id": "36cedf0c-a0af-4d6a-aaa5-f1d01012c833",
   "metadata": {},
   "source": [
    "# Подготовка к собеседованиям"
   ]
  },
  {
   "cell_type": "markdown",
   "id": "b25ee839-c32a-4da6-aa7e-9d067e7e605b",
   "metadata": {},
   "source": [
    "## Вопросы по Python, SQL, теории вероятности"
   ]
  },
  {
   "cell_type": "markdown",
   "id": "c79f0dde-a3c2-4bf9-ba78-ecc24c9a8434",
   "metadata": {},
   "source": [
    "### Добыча вопросов"
   ]
  },
  {
   "cell_type": "code",
   "execution_count": 2,
   "id": "bcd499b3-ee01-4860-a55e-783a767180ff",
   "metadata": {},
   "outputs": [],
   "source": [
    "# !pip install beautifulsoup4"
   ]
  },
  {
   "cell_type": "code",
   "execution_count": 1,
   "id": "9ad26b47-b9c4-4946-ac13-219844e7974d",
   "metadata": {},
   "outputs": [],
   "source": [
    "import requests\n",
    "from bs4 import BeautifulSoup\n",
    "import re\n",
    "import random\n",
    "\n",
    "\n",
    "def parse_headers(link, header_level='h2'):\n",
    "    parsed_headers = []\n",
    "    try:\n",
    "        # Send a GET request to the provided link\n",
    "        response = requests.get(link)\n",
    "        # Check if the request was successful\n",
    "        if response.status_code == 200:\n",
    "            # Parse the HTML content of the page using BeautifulSoup\n",
    "            soup = BeautifulSoup(response.content, 'html.parser')\n",
    "            # Find all headers and extract their text\n",
    "            h2_headers = soup.find_all(header_level)\n",
    "            # Extract text from each header and append it to the list\n",
    "            for header in h2_headers:\n",
    "                parsed_headers.append(header.text.strip())\n",
    "        else:\n",
    "            print(\"Failed to retrieve the webpage. Status code:\", response.status_code)\n",
    "    except Exception as e:\n",
    "        print(\"An error occurred:\", str(e))\n",
    "    return parsed_headers\n",
    "\n",
    "\n",
    "def remove_digits_from_start(strings):\n",
    "    # Compile a regex pattern to match digits at the start of a string\n",
    "    pattern = re.compile(r'^\\d+\\.\\s*')\n",
    "    # Remove digits from the beginning of each string\n",
    "    cleaned_strings = [pattern.sub('', s) for s in strings]\n",
    "    return cleaned_strings\n",
    "\n",
    "\n",
    "def get_random_string(strings):\n",
    "    if not strings:\n",
    "        return None  # Return None if the list is empty\n",
    "    return random.choice(strings)\n",
    "\n"
   ]
  },
  {
   "cell_type": "code",
   "execution_count": 2,
   "id": "4e941d4c-ce57-480d-a758-bcea99e70b47",
   "metadata": {},
   "outputs": [
    {
     "name": "stdout",
     "output_type": "stream",
     "text": [
      "['1. Какие типы данных есть в python? На какие классы делятся?', '2. Что такое лямбда-функция? Какое у неё назначение?', '3. Что такое docstring?', '4. Как получить документацию по атрибутам объекта?', '5. В чём разница между типами list и tuple?']\n"
     ]
    }
   ],
   "source": [
    "# Python questions 1:\n",
    "python_qstns_1_link = 'https://habr.com/ru/articles/782266/' \n",
    "python_qstns_1 = parse_headers(python_qstns_1_link)\n",
    "print(python_qstns_1[:5])"
   ]
  },
  {
   "cell_type": "code",
   "execution_count": 3,
   "id": "fdf7dce4-bde3-4ba9-bf6c-c1dc8dcddc98",
   "metadata": {},
   "outputs": [
    {
     "data": {
      "text/plain": [
       "['Ближайшие события',\n",
       " 'Работа',\n",
       " 'Истории',\n",
       " 'Публикации',\n",
       " '100. Что такое аксессоры, мутаторы, @property?',\n",
       " '99. В чем разница между NumPy и SciPy?',\n",
       " '98. Назовите модули в Python, связанные с файлами',\n",
       " '97. Что такое функции высшего порядка?',\n",
       " '96. Как создать свой собственный пакет в Python?']"
      ]
     },
     "execution_count": 3,
     "metadata": {},
     "output_type": "execute_result"
    }
   ],
   "source": [
    "python_qstns_1[-1:-10:-1]"
   ]
  },
  {
   "cell_type": "code",
   "execution_count": 4,
   "id": "62d3bafb-80b8-4942-9659-5fdf42205ebe",
   "metadata": {},
   "outputs": [],
   "source": [
    "# уберём лишнее\n",
    "python_qstns_1 = python_qstns_1[:-4]"
   ]
  },
  {
   "cell_type": "code",
   "execution_count": 6,
   "id": "90b94061-d6e2-4b09-870f-568f71be14f6",
   "metadata": {},
   "outputs": [
    {
     "name": "stdout",
     "output_type": "stream",
     "text": [
      "['1. В чем разница между списком и кортежем?', '2. Как выполняется интерполяция строк?', '3. В чем разница между is и ==?', '4. Что такое декоратор?', '5. Объясните функцию range']\n"
     ]
    }
   ],
   "source": [
    "# Python questions 2:\n",
    "python_qstns_2_link = 'https://habr.com/ru/companies/vk/articles/506824/' \n",
    "python_qstns_2 = parse_headers(python_qstns_2_link)\n",
    "print(python_qstns_2[:5])"
   ]
  },
  {
   "cell_type": "code",
   "execution_count": 7,
   "id": "91484d3f-830f-4c93-bb67-53562e30fc77",
   "metadata": {},
   "outputs": [
    {
     "data": {
      "text/plain": [
       "['Публикации',\n",
       " '53. Как выполняется обработка исключений в Python?',\n",
       " '52. Приведите пример генератора словарей (dict comprehension)',\n",
       " '51. В чем разница между remove, del и pop?']"
      ]
     },
     "execution_count": 7,
     "metadata": {},
     "output_type": "execute_result"
    }
   ],
   "source": [
    "python_qstns_2[-1:-5:-1]"
   ]
  },
  {
   "cell_type": "code",
   "execution_count": 8,
   "id": "d033a7db-dcb9-4ffb-9ac0-375060e4f7a3",
   "metadata": {},
   "outputs": [],
   "source": [
    "# уберём лишнее\n",
    "python_qstns_2 = python_qstns_2[:-1]"
   ]
  },
  {
   "cell_type": "code",
   "execution_count": 9,
   "id": "6997b464-5baf-4a38-b8d9-1f40b1f7baaa",
   "metadata": {},
   "outputs": [
    {
     "name": "stdout",
     "output_type": "stream",
     "text": [
      "['Секция \"Статистика\"', 'Секция \"SQL\"', 'Секция \"Python\"', 'Секция \"Data Science\"', 'Секция \"Machine Learning\"']\n"
     ]
    }
   ],
   "source": [
    "# DS questions 1:\n",
    "ds_qstns_link = 'https://habr.com/ru/articles/783766/' \n",
    "ds_qstns = parse_headers(ds_qstns_link, header_level='h3')\n",
    "print(ds_qstns[:5])"
   ]
  },
  {
   "cell_type": "code",
   "execution_count": 10,
   "id": "612cf0aa-7d9d-40c6-af7c-80812197fe8c",
   "metadata": {},
   "outputs": [],
   "source": [
    "# уберём лишнее\n",
    "ds_qstns = ds_qstns[5:]"
   ]
  },
  {
   "cell_type": "code",
   "execution_count": 7,
   "id": "24a68880-d0e2-4012-a5e0-2a1a58d86cd6",
   "metadata": {},
   "outputs": [],
   "source": [
    "# ds_qstns_link_2 = 'https://github.com/masmahbubalom/InterviewQuestions/tree/main/ML%20Interview%20Question'\n",
    "# ds_qstns_2 = parse_headers(ds_qstns_link_2, header_level='h3')\n",
    "# print(ds_qstns_2)"
   ]
  },
  {
   "cell_type": "code",
   "execution_count": 11,
   "id": "ba55a8db-3657-45f0-b053-971a619bd173",
   "metadata": {},
   "outputs": [],
   "source": [
    "# объединим вопросы \n",
    "qstns = python_qstns_1 + python_qstns_2 + ds_qstns"
   ]
  },
  {
   "cell_type": "code",
   "execution_count": 12,
   "id": "9a53aa35-9f6b-45cc-9721-27bcac93d937",
   "metadata": {},
   "outputs": [],
   "source": [
    "#очистим вопросы от нумерации\n",
    "qstns = remove_digits_from_start(qstns)"
   ]
  },
  {
   "cell_type": "code",
   "execution_count": 13,
   "id": "289082b3-c1e2-4a14-9216-24d7595018d3",
   "metadata": {},
   "outputs": [],
   "source": [
    "references = [\n",
    "    '\\n\\nИсточники',\n",
    "    'https://habr.com/ru/articles/782266/',\n",
    "    'https://habr.com/ru/companies/vk/articles/506824/',\n",
    "    'https://habr.com/ru/articles/783766/'\n",
    "]"
   ]
  },
  {
   "cell_type": "code",
   "execution_count": 14,
   "id": "ac51cbf0-b661-4e13-982e-f7d141aad85b",
   "metadata": {},
   "outputs": [],
   "source": [
    "with open ('ds_interview_questions.txt', 'w') as f:\n",
    "    f.writelines([line+'\\n' for line in qstns])\n",
    "\n",
    "# В конце укажем источники\n",
    "# with open ('ds_interview_questions.txt', 'a') as f:\n",
    "#     f.writelines([line+'\\n' for line in references])"
   ]
  },
  {
   "cell_type": "markdown",
   "id": "70c7b9d2-d8a5-4ea2-83df-a330c78b20f4",
   "metadata": {},
   "source": [
    "Ссылки для поиcка ответов:\n",
    "* https://habr.com/ru/articles/782266/\n",
    "* https://habr.com/ru/companies/vk/articles/506824/\n",
    "* https://habr.com/ru/articles/783766/\n",
    "* https://github.com/masmahbubalom/InterviewQuestions/tree/main/ML%20Interview%20Question"
   ]
  },
  {
   "cell_type": "markdown",
   "id": "f7053dd9-c243-4c48-8775-9959a16c168a",
   "metadata": {},
   "source": [
    "### Вопросы"
   ]
  },
  {
   "cell_type": "code",
   "execution_count": 15,
   "id": "a3a905bd-f1a3-45af-9dce-a0949f919317",
   "metadata": {},
   "outputs": [],
   "source": [
    "with open ('ds_interview_questions.txt', 'r') as f:\n",
    "    qstns = f.readlines()"
   ]
  },
  {
   "cell_type": "code",
   "execution_count": 102,
   "id": "b1e29fb0-e098-4357-95b7-46d782ab4d63",
   "metadata": {},
   "outputs": [
    {
     "name": "stdout",
     "output_type": "stream",
     "text": [
      "Объясните и дайте примеры коллаборативной фильтрации, фильтрации контента и гибридной фильтрации\n"
     ]
    }
   ],
   "source": [
    "random_qstn = get_random_string(qstns)\n",
    "print(random_qstn.strip())"
   ]
  },
  {
   "cell_type": "markdown",
   "id": "4500c9e1-8edc-4d58-95fc-cf1d3408e84d",
   "metadata": {},
   "source": [
    "### Тренировка"
   ]
  },
  {
   "cell_type": "code",
   "execution_count": 111,
   "id": "3c70af77-f2e5-4d64-a4c6-2abfe41f4ec7",
   "metadata": {},
   "outputs": [
    {
     "name": "stdout",
     "output_type": "stream",
     "text": [
      "summ called with args: (5,) and kwargs: {'b': 6}\n",
      "11\n"
     ]
    }
   ],
   "source": [
    "# Что такое декоратор? Как написать собственный?\n",
    "# https://realpython.com/primer-on-python-decorators/\n",
    "# f = decorator(f)\n",
    "\n",
    "def logging(func):\n",
    "    def log_function_called(*args, **kwargs):\n",
    "        print(f'{func.__name__} called with args: {args} and kwargs: {kwargs}')\n",
    "        return func(*args, **kwargs)\n",
    "    return log_function_called\n",
    "\n",
    "# @logging\n",
    "def summ(a, b):\n",
    "    return a + b\n",
    "\n",
    "summ = logging(summ)\n",
    "\n",
    "\n",
    "s = summ(5, b=6)\n",
    "print(s)"
   ]
  },
  {
   "cell_type": "code",
   "execution_count": 112,
   "id": "089e4b58-79aa-41de-af3b-2ee8d5d5db32",
   "metadata": {},
   "outputs": [
    {
     "name": "stdout",
     "output_type": "stream",
     "text": [
      "True\n",
      "False\n",
      "True\n",
      "True\n",
      "a: 2226370321344 b: 2226370250560 c: 2226370321344\n"
     ]
    }
   ],
   "source": [
    "# В чем разница между is и ==?\n",
    "a = [1, 2, 3]\n",
    "b = [1, 2, 3]\n",
    "c = a\n",
    "\n",
    "print(a == b)\n",
    "print(a is b)\n",
    "print(a == c)\n",
    "print(a is c)\n",
    "print('a:', id(a), 'b:', id(b), 'c:', id(c))"
   ]
  },
  {
   "cell_type": "code",
   "execution_count": 113,
   "id": "9e2fd930-5f3c-448a-9fe0-d397f09d917e",
   "metadata": {},
   "outputs": [
    {
     "name": "stdout",
     "output_type": "stream",
     "text": [
      "{'a': 1, 'b': 2, 'c': 3, 'd': 4, 'e': 5}\n",
      "range(0, 10)\n",
      "[1, 2, 3, 4, 5]\n",
      "[1, 2, 3, 4, 5]\n",
      "[1, 2, 3, 4, 5]\n",
      "{0: 0, 1: 1, 2: 4, 3: 9, 4: 16, 5: 25, 6: 36, 7: 49, 8: 64, 9: 81}\n",
      "[[0, 0], [1, 1], [2, 4], [3, 9], [4, 16], [5, 25], [6, 36], [7, 49], [8, 64], [9, 81]]\n",
      "[3, 0, 5, 0, 7]\n"
     ]
    }
   ],
   "source": [
    "# A0 — zip попарно читает кортежи и создаёт такие пары \"ключ-значение\": 'a' : 1, 'b' : 2, ...\n",
    "a0 = dict(zip(('a', 'b', 'c', 'd', 'e'), (1, 2, 3, 4, 5)))\n",
    "print(a0)\n",
    "\n",
    "# A1 — просто диапазон от 0 до 9, но сейчас это именно что диапазон, а не список или что-то ещё\n",
    "a1 = range(10)\n",
    "print(a1)\n",
    "\n",
    "# A2 — берём по элементу из A1, и если этот элемент есть в A0, то добавляем его в A2. Позже сортируем A2 по возрастанию\n",
    "a2 = sorted([el for el in a1 if el in a0.values()])\n",
    "print(a2)\n",
    "\n",
    "# A3 — достаём значения словаря A0 по ключам из A0, сортируем\n",
    "a3 = sorted([a0[key] for key in ['a', 'c', 'e']]) # вариант, когда нужны определённые ключи\n",
    "a3 = sorted([a0[key] for key in a0])  # вариант\n",
    "print(a3)\n",
    "\n",
    "# A4 — берём по элементу из A1, и если этот элемент есть в A3, добавляем в A4 этот элемент\n",
    "a4 = [el for el in a1 if el in a3]\n",
    "print(a4)\n",
    "\n",
    "# А5 — создаём словарь со значениями, которые равны квадрату ключей. Ключи берём из A1\n",
    "a5 = {i:i**2 for i in a1}\n",
    "print(a5)\n",
    "\n",
    "# A6 — создаём списки в одном списке, каждый маленький список вида [элемент, элемент**2]. Элементы берём из A1\n",
    "a6 = [[el, el**2] for el in a1]\n",
    "print(a6)\n",
    "\n",
    "# A7 — берём элементы из A1, если элемент из интервала (2, 8), то проверяем чётность элемента.\n",
    "# Если элемент нечётный, то добавляем его в A7, иначе добавляем 0.\n",
    "a7 = [el if el%2 else 0 for el in a1 if 2 < el < 8]\n",
    "print(a7)"
   ]
  },
  {
   "cell_type": "markdown",
   "id": "f60194cb-af8c-4df6-abde-78ab79227182",
   "metadata": {},
   "source": [
    "## Тренировки по алгоритмам от Яндекс"
   ]
  },
  {
   "cell_type": "markdown",
   "id": "13f15a13-a92f-4183-89b9-114d371d5a6f",
   "metadata": {},
   "source": [
    "https://yandex.ru/yaintern/algorithm-training#trainings-group"
   ]
  },
  {
   "cell_type": "markdown",
   "id": "ee6810a0-d8bd-41ab-ba2c-a5661a227875",
   "metadata": {},
   "source": [
    "**[Тренировки 1.0 (2021)](https://yandex.ru/yaintern/algorithm-training_1)**\n",
    "\n",
    "1. [Лекция 1: «Сложность, тестирование, особые случаи»](https://www.youtube.com/watch?v=QLhqYNsPIVo)\n",
    "2. [Лекция 2: «Линейный поиск»](https://www.youtube.com/watch?v=SKwB41FrGgU)\n",
    "3. [Лекция 3: «Множества»](https://www.youtube.com/watch?v=PUpmV2ieIHA)\n",
    "4. [Лекция 4: «Словари и сортировка подсчётом»](https://www.youtube.com/watch?v=Nb5mW1yWVSs)\n",
    "5. [Лекция 5: «Префиксные суммы и два указателя»](https://www.youtube.com/watch?v=de28y8Dcvkg)\n",
    "6. [Лекция 6: «Бинарный поиск»](https://www.youtube.com/watch?v=YENpZexHfuk)\n",
    "7. [Лекция 7: «Сортировка событий»](https://www.youtube.com/watch?v=hGixDBO-p6Q)\n",
    "8. [Лекция 8: «Деревья»](https://www.youtube.com/watch?v=lEJzqHgyels)"
   ]
  },
  {
   "cell_type": "markdown",
   "id": "b47ab238-54e3-4858-a976-769b4a7f839f",
   "metadata": {},
   "source": [
    "## Тренировки на LeetCode.com"
   ]
  },
  {
   "cell_type": "markdown",
   "id": "24cb3d79-eeeb-4c81-bf02-016d5c19a2d1",
   "metadata": {},
   "source": [
    "https://leetcode.com/problemset/"
   ]
  },
  {
   "cell_type": "markdown",
   "id": "d3ea8986-120b-44b9-b820-471e45edf499",
   "metadata": {},
   "source": [
    "## Время"
   ]
  },
  {
   "cell_type": "code",
   "execution_count": 107,
   "id": "9c94da6b-e861-49db-a10a-46390fa4cee3",
   "metadata": {},
   "outputs": [],
   "source": [
    "time_spent = {\n",
    "    '2024-04-15': 25/60*4,\n",
    "    \n",
    "}"
   ]
  },
  {
   "cell_type": "code",
   "execution_count": 109,
   "id": "ff11192a-aae6-41dc-9e47-ac48acb663d3",
   "metadata": {},
   "outputs": [
    {
     "data": {
      "text/plain": [
       "(1.6666666666666667, 1.65)"
      ]
     },
     "execution_count": 109,
     "metadata": {},
     "output_type": "execute_result"
    }
   ],
   "source": [
    "25/60*4, 1 + 39/60"
   ]
  },
  {
   "cell_type": "code",
   "execution_count": 117,
   "id": "ee351487-897c-4aa5-bce5-5ae27044bb48",
   "metadata": {},
   "outputs": [
    {
     "data": {
      "text/plain": [
       "0.5637918567772594"
      ]
     },
     "execution_count": 117,
     "metadata": {},
     "output_type": "execute_result"
    }
   ],
   "source": [
    "from math import sqrt\n",
    "\n",
    "n = 500\n",
    "p = 260 / n\n",
    "z = 1.96\n",
    "\n",
    "p + z * sqrt(p * (1 - p) / n)"
   ]
  },
  {
   "cell_type": "code",
   "execution_count": null,
   "id": "3de39081-7159-410c-874b-33e06a8e219d",
   "metadata": {},
   "outputs": [],
   "source": []
  }
 ],
 "metadata": {
  "kernelspec": {
   "display_name": "Python 3 (ipykernel)",
   "language": "python",
   "name": "python3"
  },
  "language_info": {
   "codemirror_mode": {
    "name": "ipython",
    "version": 3
   },
   "file_extension": ".py",
   "mimetype": "text/x-python",
   "name": "python",
   "nbconvert_exporter": "python",
   "pygments_lexer": "ipython3",
   "version": "3.11.7"
  }
 },
 "nbformat": 4,
 "nbformat_minor": 5
}
